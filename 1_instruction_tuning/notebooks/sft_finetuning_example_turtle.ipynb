{
 "cells": [
  {
   "cell_type": "markdown",
   "metadata": {},
   "source": [
    "# Supervised Fine-Tuning with SFTTrainer\n",
    "\n",
    "This notebook demonstrates how to fine-tune the `HuggingFaceTB/SmolLM2-135M` model using the `SFTTrainer` from the `trl` library. The notebook cells run and will finetune the model. You can select your difficulty by trying out different datasets.\n",
    "\n",
    "<div style='background-color: lightblue; padding: 10px; border-radius: 5px; margin-bottom: 20px; color:black'>\n",
    "    <h2 style='margin: 0;color:blue'>Exercise: Fine-Tuning SmolLM2 with SFTTrainer</h2>\n",
    "    <p>Take a dataset from the Hugging Face hub and finetune a model on it. </p> \n",
    "    <p><b>Difficulty Levels</b></p>\n",
    "    <p>🐢 Use the `HuggingFaceTB/smoltalk` dataset</p>\n",
    "    <p>🐕 Try out the `bigcode/the-stack-smol` dataset and finetune a code generation model on a specific subset `data/python`.</p>\n",
    "    <p>🦁 Select a dataset that relates to a real world use case your interested in</p>\n",
    "</div>"
   ]
  },
  {
   "cell_type": "code",
   "execution_count": 1,
   "metadata": {},
   "outputs": [
    {
     "data": {
      "application/vnd.jupyter.widget-view+json": {
       "model_id": "98db05310b0c44d8a4a7126204fe37ca",
       "version_major": 2,
       "version_minor": 0
      },
      "text/plain": [
       "VBox(children=(HTML(value='<center> <img\\nsrc=https://huggingface.co/front/assets/huggingface_logo-noborder.sv…"
      ]
     },
     "metadata": {},
     "output_type": "display_data"
    }
   ],
   "source": [
    "# Install the requirements in Google Colab\n",
    "# !pip install transformers datasets trl huggingface_hub\n",
    "\n",
    "# Authenticate to Hugging Face\n",
    "\n",
    "from huggingface_hub import login\n",
    "login()\n",
    "\n",
    "# for convenience you can create an environment variable containing your hub token as HF_TOKEN"
   ]
  },
  {
   "cell_type": "code",
   "execution_count": 3,
   "metadata": {},
   "outputs": [],
   "source": [
    "# Import necessary libraries\n",
    "from transformers import AutoModelForCausalLM, AutoTokenizer\n",
    "from datasets import load_dataset\n",
    "from trl import SFTConfig, SFTTrainer, setup_chat_format\n",
    "import torch\n",
    "\n",
    "device = (\n",
    "    \"cuda\"\n",
    "    if torch.cuda.is_available()\n",
    "    else \"mps\" if torch.backends.mps.is_available() else \"cpu\"\n",
    ")\n",
    "\n",
    "# Load the model and tokenizer\n",
    "model_name = \"HuggingFaceTB/SmolLM2-135M\"\n",
    "model = AutoModelForCausalLM.from_pretrained(\n",
    "    pretrained_model_name_or_path=model_name\n",
    ").to(device)\n",
    "tokenizer = AutoTokenizer.from_pretrained(pretrained_model_name_or_path=model_name)\n",
    "\n",
    "# Set up the chat format\n",
    "model, tokenizer = setup_chat_format(model=model, tokenizer=tokenizer)\n",
    "\n",
    "# Set our name for the finetune to be saved &/ uploaded to\n",
    "finetune_name = \"SmolLM2-FT-Smoltalk\"\n",
    "finetune_tags = [\"smol-course\", \"module_1\"]"
   ]
  },
  {
   "cell_type": "markdown",
   "metadata": {},
   "source": [
    "# Generate with the base model\n",
    "\n",
    "Here we will try out the base model which does not have a chat template. "
   ]
  },
  {
   "cell_type": "code",
   "execution_count": 4,
   "metadata": {},
   "outputs": [
    {
     "name": "stdout",
     "output_type": "stream",
     "text": [
      "Before training:\n",
      "user\n",
      "Write a haiku about programming\n",
      "Write a haiku about programming\n",
      "Write a haiku about programming\n",
      "Write a haiku about programming\n",
      "Write a haiku about programming\n",
      "Write a haiku about programming\n",
      "Write a haiku about programming\n",
      "Write a haiku about programming\n",
      "Write a haiku about programming\n",
      "Write a haiku about programming\n",
      "Write a haiku about programming\n",
      "Write a haiku about programming\n",
      "Write a haiku about programming\n",
      "Write a haiku about programming\n",
      "Write a haiku about programming\n",
      "Write a\n"
     ]
    }
   ],
   "source": [
    "# Let's test the base model before training\n",
    "prompt = \"Write a haiku about programming\"\n",
    "\n",
    "# Format with template\n",
    "messages = [{\"role\": \"user\", \"content\": prompt}]\n",
    "formatted_prompt = tokenizer.apply_chat_template(messages, tokenize=False)\n",
    "\n",
    "# Generate response\n",
    "inputs = tokenizer(formatted_prompt, return_tensors=\"pt\").to(device)\n",
    "outputs = model.generate(**inputs, max_new_tokens=100)\n",
    "print(\"Before training:\")\n",
    "print(tokenizer.decode(outputs[0], skip_special_tokens=True))"
   ]
  },
  {
   "cell_type": "markdown",
   "metadata": {},
   "source": [
    "## Dataset Preparation\n",
    "\n",
    "We will load a sample dataset and format it for training. The dataset should be structured with input-output pairs, where each input is a prompt and the output is the expected response from the model.\n",
    "\n",
    "**TRL will format input messages based on the model's chat templates.** They need to be represented as a list of dictionaries with the keys: `role` and `content`,."
   ]
  },
  {
   "cell_type": "code",
   "execution_count": 5,
   "metadata": {},
   "outputs": [],
   "source": [
    "# Load a sample dataset\n",
    "from datasets import load_dataset\n",
    "\n",
    "# TODO: define your dataset and config using the path and name parameters\n",
    "ds = load_dataset(path=\"HuggingFaceTB/smoltalk\", name=\"everyday-conversations\")"
   ]
  },
  {
   "cell_type": "code",
   "execution_count": 5,
   "metadata": {},
   "outputs": [],
   "source": [
    "# TODO: 🦁 If your dataset is not in a format that TRL can convert to the chat template, you will need to process it. Refer to the [module](../chat_templates.md)"
   ]
  },
  {
   "cell_type": "markdown",
   "metadata": {},
   "source": [
    "## Configuring the SFTTrainer\n",
    "\n",
    "The `SFTTrainer` is configured with various parameters that control the training process. These include the number of training steps, batch size, learning rate, and evaluation strategy. Adjust these parameters based on your specific requirements and computational resources."
   ]
  },
  {
   "cell_type": "code",
   "execution_count": 7,
   "metadata": {},
   "outputs": [
    {
     "name": "stderr",
     "output_type": "stream",
     "text": [
      "/home/user/HuaProjects/Tookies/smol-course/.venv/lib/python3.11/site-packages/trl/trainer/sft_trainer.py:309: UserWarning: You didn't pass a `max_seq_length` argument to the SFTTrainer, this will default to 1024\n",
      "  warnings.warn(\n"
     ]
    },
    {
     "data": {
      "application/vnd.jupyter.widget-view+json": {
       "model_id": "89a879c51b19439b958978bf72fc9cf4",
       "version_major": 2,
       "version_minor": 0
      },
      "text/plain": [
       "Map:   0%|          | 0/2260 [00:00<?, ? examples/s]"
      ]
     },
     "metadata": {},
     "output_type": "display_data"
    },
    {
     "data": {
      "application/vnd.jupyter.widget-view+json": {
       "model_id": "57ce79c504ce4198b3afde554d1c94fa",
       "version_major": 2,
       "version_minor": 0
      },
      "text/plain": [
       "Map:   0%|          | 0/119 [00:00<?, ? examples/s]"
      ]
     },
     "metadata": {},
     "output_type": "display_data"
    },
    {
     "name": "stderr",
     "output_type": "stream",
     "text": [
      "max_steps is given, it will override any value given in num_train_epochs\n"
     ]
    }
   ],
   "source": [
    "# Configure the SFTTrainer\n",
    "sft_config = SFTConfig(\n",
    "    output_dir=\"./sft_output\",\n",
    "    max_steps=1000,  # Adjust based on dataset size and desired training duration\n",
    "    per_device_train_batch_size=4,  # Set according to your GPU memory capacity\n",
    "    learning_rate=5e-5,  # Common starting point for fine-tuning\n",
    "    logging_steps=10,  # Frequency of logging training metrics\n",
    "    save_steps=100,  # Frequency of saving model checkpoints\n",
    "    #evaluation_strategy=\"steps\",  # Evaluate the model at regular intervals\n",
    "    eval_steps=50,  # Frequency of evaluation\n",
    "    use_mps_device=(\n",
    "        True if device == \"mps\" else False\n",
    "    ),  # Use MPS for mixed precision training\n",
    "    hub_model_id=finetune_name,  # Set a unique name for your model\n",
    ")\n",
    "\n",
    "# Initialize the SFTTrainer\n",
    "trainer = SFTTrainer(\n",
    "    model=model,\n",
    "    args=sft_config,\n",
    "    train_dataset=ds[\"train\"],\n",
    "    tokenizer=tokenizer,\n",
    "    eval_dataset=ds[\"test\"],\n",
    ")\n",
    "\n",
    "# TODO: 🦁 🐕 align the SFTTrainer params with your chosen dataset. For example, if you are using the `bigcode/the-stack-smol` dataset, you will need to choose the `content` column`"
   ]
  },
  {
   "cell_type": "markdown",
   "metadata": {},
   "source": [
    "## Training the Model\n",
    "\n",
    "With the trainer configured, we can now proceed to train the model. The training process will involve iterating over the dataset, computing the loss, and updating the model's parameters to minimize this loss."
   ]
  },
  {
   "cell_type": "code",
   "execution_count": 8,
   "metadata": {},
   "outputs": [
    {
     "data": {
      "application/vnd.jupyter.widget-view+json": {
       "model_id": "6ab02212cc884759b4b77f9932d12b23",
       "version_major": 2,
       "version_minor": 0
      },
      "text/plain": [
       "  0%|          | 0/1000 [00:00<?, ?it/s]"
      ]
     },
     "metadata": {},
     "output_type": "display_data"
    },
    {
     "name": "stdout",
     "output_type": "stream",
     "text": [
      "{'loss': 1.6774, 'grad_norm': 2.7205357551574707, 'learning_rate': 4.9500000000000004e-05, 'epoch': 0.02}\n",
      "{'loss': 1.2563, 'grad_norm': 2.6444971561431885, 'learning_rate': 4.9e-05, 'epoch': 0.04}\n",
      "{'loss': 1.234, 'grad_norm': 2.3947360515594482, 'learning_rate': 4.85e-05, 'epoch': 0.05}\n",
      "{'loss': 1.161, 'grad_norm': 2.5028529167175293, 'learning_rate': 4.8e-05, 'epoch': 0.07}\n",
      "{'loss': 1.0657, 'grad_norm': 2.2998151779174805, 'learning_rate': 4.75e-05, 'epoch': 0.09}\n",
      "{'loss': 1.1566, 'grad_norm': 2.288642168045044, 'learning_rate': 4.7e-05, 'epoch': 0.11}\n",
      "{'loss': 1.1648, 'grad_norm': 2.012446641921997, 'learning_rate': 4.6500000000000005e-05, 'epoch': 0.12}\n",
      "{'loss': 1.1244, 'grad_norm': 2.1285176277160645, 'learning_rate': 4.600000000000001e-05, 'epoch': 0.14}\n",
      "{'loss': 1.086, 'grad_norm': 2.2243924140930176, 'learning_rate': 4.55e-05, 'epoch': 0.16}\n",
      "{'loss': 1.1116, 'grad_norm': 2.080845594406128, 'learning_rate': 4.5e-05, 'epoch': 0.18}\n",
      "{'loss': 1.0621, 'grad_norm': 2.050309419631958, 'learning_rate': 4.4500000000000004e-05, 'epoch': 0.19}\n",
      "{'loss': 1.1234, 'grad_norm': 2.0779528617858887, 'learning_rate': 4.4000000000000006e-05, 'epoch': 0.21}\n",
      "{'loss': 1.0921, 'grad_norm': 1.9967806339263916, 'learning_rate': 4.35e-05, 'epoch': 0.23}\n",
      "{'loss': 1.0627, 'grad_norm': 2.1300535202026367, 'learning_rate': 4.3e-05, 'epoch': 0.25}\n",
      "{'loss': 1.0624, 'grad_norm': 2.0639231204986572, 'learning_rate': 4.25e-05, 'epoch': 0.27}\n",
      "{'loss': 1.0679, 'grad_norm': 2.0234694480895996, 'learning_rate': 4.2e-05, 'epoch': 0.28}\n",
      "{'loss': 1.0966, 'grad_norm': 2.064920663833618, 'learning_rate': 4.15e-05, 'epoch': 0.3}\n",
      "{'loss': 1.0368, 'grad_norm': 1.7581467628479004, 'learning_rate': 4.1e-05, 'epoch': 0.32}\n",
      "{'loss': 1.0548, 'grad_norm': 1.999450922012329, 'learning_rate': 4.05e-05, 'epoch': 0.34}\n",
      "{'loss': 1.0482, 'grad_norm': 1.869171142578125, 'learning_rate': 4e-05, 'epoch': 0.35}\n",
      "{'loss': 1.0709, 'grad_norm': 1.9666540622711182, 'learning_rate': 3.9500000000000005e-05, 'epoch': 0.37}\n",
      "{'loss': 1.1066, 'grad_norm': 2.024059772491455, 'learning_rate': 3.9000000000000006e-05, 'epoch': 0.39}\n",
      "{'loss': 1.0444, 'grad_norm': 1.97749662399292, 'learning_rate': 3.85e-05, 'epoch': 0.41}\n",
      "{'loss': 1.0338, 'grad_norm': 1.9441848993301392, 'learning_rate': 3.8e-05, 'epoch': 0.42}\n",
      "{'loss': 1.0412, 'grad_norm': 1.952591061592102, 'learning_rate': 3.7500000000000003e-05, 'epoch': 0.44}\n",
      "{'loss': 1.0647, 'grad_norm': 1.865086317062378, 'learning_rate': 3.7e-05, 'epoch': 0.46}\n",
      "{'loss': 1.0536, 'grad_norm': 1.8909178972244263, 'learning_rate': 3.65e-05, 'epoch': 0.48}\n",
      "{'loss': 1.0613, 'grad_norm': 1.9998172521591187, 'learning_rate': 3.6e-05, 'epoch': 0.5}\n",
      "{'loss': 1.0283, 'grad_norm': 1.873908519744873, 'learning_rate': 3.55e-05, 'epoch': 0.51}\n",
      "{'loss': 1.0292, 'grad_norm': 1.8298835754394531, 'learning_rate': 3.5e-05, 'epoch': 0.53}\n",
      "{'loss': 1.0241, 'grad_norm': 2.146768808364868, 'learning_rate': 3.45e-05, 'epoch': 0.55}\n",
      "{'loss': 1.0228, 'grad_norm': 1.9443690776824951, 'learning_rate': 3.4000000000000007e-05, 'epoch': 0.57}\n",
      "{'loss': 1.076, 'grad_norm': 1.9639039039611816, 'learning_rate': 3.35e-05, 'epoch': 0.58}\n",
      "{'loss': 1.0508, 'grad_norm': 1.8710904121398926, 'learning_rate': 3.3e-05, 'epoch': 0.6}\n",
      "{'loss': 1.0034, 'grad_norm': 2.01456356048584, 'learning_rate': 3.2500000000000004e-05, 'epoch': 0.62}\n",
      "{'loss': 1.0558, 'grad_norm': 1.7782869338989258, 'learning_rate': 3.2000000000000005e-05, 'epoch': 0.64}\n",
      "{'loss': 1.073, 'grad_norm': 2.1646182537078857, 'learning_rate': 3.15e-05, 'epoch': 0.65}\n",
      "{'loss': 1.0177, 'grad_norm': 2.023303508758545, 'learning_rate': 3.1e-05, 'epoch': 0.67}\n",
      "{'loss': 0.9862, 'grad_norm': 1.7660701274871826, 'learning_rate': 3.05e-05, 'epoch': 0.69}\n",
      "{'loss': 1.0065, 'grad_norm': 1.9037225246429443, 'learning_rate': 3e-05, 'epoch': 0.71}\n",
      "{'loss': 1.0134, 'grad_norm': 1.9174379110336304, 'learning_rate': 2.95e-05, 'epoch': 0.73}\n",
      "{'loss': 0.9992, 'grad_norm': 2.037203311920166, 'learning_rate': 2.9e-05, 'epoch': 0.74}\n",
      "{'loss': 1.0716, 'grad_norm': 2.021618366241455, 'learning_rate': 2.8499999999999998e-05, 'epoch': 0.76}\n",
      "{'loss': 1.0657, 'grad_norm': 1.9803069829940796, 'learning_rate': 2.8000000000000003e-05, 'epoch': 0.78}\n",
      "{'loss': 1.0211, 'grad_norm': 1.8331738710403442, 'learning_rate': 2.7500000000000004e-05, 'epoch': 0.8}\n",
      "{'loss': 1.0586, 'grad_norm': 2.046072006225586, 'learning_rate': 2.7000000000000002e-05, 'epoch': 0.81}\n",
      "{'loss': 1.0204, 'grad_norm': 1.9826027154922485, 'learning_rate': 2.6500000000000004e-05, 'epoch': 0.83}\n",
      "{'loss': 1.0521, 'grad_norm': 2.0203652381896973, 'learning_rate': 2.6000000000000002e-05, 'epoch': 0.85}\n",
      "{'loss': 1.0505, 'grad_norm': 1.78831148147583, 'learning_rate': 2.5500000000000003e-05, 'epoch': 0.87}\n",
      "{'loss': 1.0763, 'grad_norm': 2.0216591358184814, 'learning_rate': 2.5e-05, 'epoch': 0.88}\n",
      "{'loss': 1.0084, 'grad_norm': 1.8724472522735596, 'learning_rate': 2.45e-05, 'epoch': 0.9}\n",
      "{'loss': 1.0324, 'grad_norm': 2.0851845741271973, 'learning_rate': 2.4e-05, 'epoch': 0.92}\n",
      "{'loss': 0.9957, 'grad_norm': 1.787276029586792, 'learning_rate': 2.35e-05, 'epoch': 0.94}\n",
      "{'loss': 1.0472, 'grad_norm': 1.9167307615280151, 'learning_rate': 2.3000000000000003e-05, 'epoch': 0.96}\n",
      "{'loss': 0.9907, 'grad_norm': 1.83674156665802, 'learning_rate': 2.25e-05, 'epoch': 0.97}\n",
      "{'loss': 0.9813, 'grad_norm': 1.9093400239944458, 'learning_rate': 2.2000000000000003e-05, 'epoch': 0.99}\n",
      "{'loss': 0.8858, 'grad_norm': 1.7716953754425049, 'learning_rate': 2.15e-05, 'epoch': 1.01}\n",
      "{'loss': 0.8192, 'grad_norm': 1.9698002338409424, 'learning_rate': 2.1e-05, 'epoch': 1.03}\n",
      "{'loss': 0.7688, 'grad_norm': 1.7707023620605469, 'learning_rate': 2.05e-05, 'epoch': 1.04}\n",
      "{'loss': 0.8018, 'grad_norm': 1.797963261604309, 'learning_rate': 2e-05, 'epoch': 1.06}\n",
      "{'loss': 0.8795, 'grad_norm': 1.8800196647644043, 'learning_rate': 1.9500000000000003e-05, 'epoch': 1.08}\n",
      "{'loss': 0.8653, 'grad_norm': 1.7579048871994019, 'learning_rate': 1.9e-05, 'epoch': 1.1}\n",
      "{'loss': 0.8589, 'grad_norm': 1.6870923042297363, 'learning_rate': 1.85e-05, 'epoch': 1.12}\n",
      "{'loss': 0.8052, 'grad_norm': 1.587685227394104, 'learning_rate': 1.8e-05, 'epoch': 1.13}\n",
      "{'loss': 0.812, 'grad_norm': 1.8073382377624512, 'learning_rate': 1.75e-05, 'epoch': 1.15}\n",
      "{'loss': 0.8324, 'grad_norm': 1.8108266592025757, 'learning_rate': 1.7000000000000003e-05, 'epoch': 1.17}\n",
      "{'loss': 0.7995, 'grad_norm': 1.86923348903656, 'learning_rate': 1.65e-05, 'epoch': 1.19}\n",
      "{'loss': 0.804, 'grad_norm': 1.757363200187683, 'learning_rate': 1.6000000000000003e-05, 'epoch': 1.2}\n",
      "{'loss': 0.8219, 'grad_norm': 1.7896723747253418, 'learning_rate': 1.55e-05, 'epoch': 1.22}\n",
      "{'loss': 0.7538, 'grad_norm': 2.0679876804351807, 'learning_rate': 1.5e-05, 'epoch': 1.24}\n",
      "{'loss': 0.7949, 'grad_norm': 1.847462773323059, 'learning_rate': 1.45e-05, 'epoch': 1.26}\n",
      "{'loss': 0.8761, 'grad_norm': 1.9493504762649536, 'learning_rate': 1.4000000000000001e-05, 'epoch': 1.27}\n",
      "{'loss': 0.8179, 'grad_norm': 1.7645740509033203, 'learning_rate': 1.3500000000000001e-05, 'epoch': 1.29}\n",
      "{'loss': 0.8102, 'grad_norm': 1.778526782989502, 'learning_rate': 1.3000000000000001e-05, 'epoch': 1.31}\n",
      "{'loss': 0.8559, 'grad_norm': 2.0463578701019287, 'learning_rate': 1.25e-05, 'epoch': 1.33}\n",
      "{'loss': 0.7838, 'grad_norm': 1.7281389236450195, 'learning_rate': 1.2e-05, 'epoch': 1.35}\n",
      "{'loss': 0.8395, 'grad_norm': 1.883410096168518, 'learning_rate': 1.1500000000000002e-05, 'epoch': 1.36}\n",
      "{'loss': 0.816, 'grad_norm': 1.9508777856826782, 'learning_rate': 1.1000000000000001e-05, 'epoch': 1.38}\n",
      "{'loss': 0.8421, 'grad_norm': 1.8374431133270264, 'learning_rate': 1.05e-05, 'epoch': 1.4}\n",
      "{'loss': 0.8103, 'grad_norm': 1.8860386610031128, 'learning_rate': 1e-05, 'epoch': 1.42}\n",
      "{'loss': 0.8001, 'grad_norm': 1.851447582244873, 'learning_rate': 9.5e-06, 'epoch': 1.43}\n",
      "{'loss': 0.79, 'grad_norm': 1.8658918142318726, 'learning_rate': 9e-06, 'epoch': 1.45}\n",
      "{'loss': 0.8109, 'grad_norm': 1.7292397022247314, 'learning_rate': 8.500000000000002e-06, 'epoch': 1.47}\n",
      "{'loss': 0.8278, 'grad_norm': 1.7971301078796387, 'learning_rate': 8.000000000000001e-06, 'epoch': 1.49}\n",
      "{'loss': 0.7768, 'grad_norm': 1.7760255336761475, 'learning_rate': 7.5e-06, 'epoch': 1.5}\n",
      "{'loss': 0.7921, 'grad_norm': 1.8739773035049438, 'learning_rate': 7.000000000000001e-06, 'epoch': 1.52}\n",
      "{'loss': 0.7847, 'grad_norm': 1.906477689743042, 'learning_rate': 6.5000000000000004e-06, 'epoch': 1.54}\n",
      "{'loss': 0.8347, 'grad_norm': 1.8188683986663818, 'learning_rate': 6e-06, 'epoch': 1.56}\n",
      "{'loss': 0.8143, 'grad_norm': 1.6828343868255615, 'learning_rate': 5.500000000000001e-06, 'epoch': 1.58}\n",
      "{'loss': 0.8237, 'grad_norm': 1.8386074304580688, 'learning_rate': 5e-06, 'epoch': 1.59}\n",
      "{'loss': 0.8331, 'grad_norm': 1.7076411247253418, 'learning_rate': 4.5e-06, 'epoch': 1.61}\n",
      "{'loss': 0.8059, 'grad_norm': 1.8049145936965942, 'learning_rate': 4.000000000000001e-06, 'epoch': 1.63}\n",
      "{'loss': 0.8107, 'grad_norm': 2.071988821029663, 'learning_rate': 3.5000000000000004e-06, 'epoch': 1.65}\n",
      "{'loss': 0.7932, 'grad_norm': 1.7175054550170898, 'learning_rate': 3e-06, 'epoch': 1.66}\n",
      "{'loss': 0.8623, 'grad_norm': 1.9925318956375122, 'learning_rate': 2.5e-06, 'epoch': 1.68}\n",
      "{'loss': 0.8609, 'grad_norm': 1.82377290725708, 'learning_rate': 2.0000000000000003e-06, 'epoch': 1.7}\n",
      "{'loss': 0.7802, 'grad_norm': 1.7281484603881836, 'learning_rate': 1.5e-06, 'epoch': 1.72}\n",
      "{'loss': 0.7957, 'grad_norm': 1.7798895835876465, 'learning_rate': 1.0000000000000002e-06, 'epoch': 1.73}\n",
      "{'loss': 0.8345, 'grad_norm': 1.7968974113464355, 'learning_rate': 5.000000000000001e-07, 'epoch': 1.75}\n",
      "{'loss': 0.7915, 'grad_norm': 1.7644299268722534, 'learning_rate': 0.0, 'epoch': 1.77}\n",
      "{'train_runtime': 119.3826, 'train_samples_per_second': 33.506, 'train_steps_per_second': 8.376, 'train_loss': 0.9605711340904236, 'epoch': 1.77}\n"
     ]
    }
   ],
   "source": [
    "# Train the model\n",
    "trainer.train()\n",
    "\n",
    "# Save the model\n",
    "trainer.save_model(f\"./{finetune_name}\")"
   ]
  },
  {
   "cell_type": "code",
   "execution_count": 9,
   "metadata": {},
   "outputs": [
    {
     "data": {
      "application/vnd.jupyter.widget-view+json": {
       "model_id": "fb33480986a44fc8a8a1c24dc79dd4fd",
       "version_major": 2,
       "version_minor": 0
      },
      "text/plain": [
       "Upload 2 LFS files:   0%|          | 0/2 [00:00<?, ?it/s]"
      ]
     },
     "metadata": {},
     "output_type": "display_data"
    },
    {
     "data": {
      "application/vnd.jupyter.widget-view+json": {
       "model_id": "cf2e6368cbd54050a5a2cfdac96b87d7",
       "version_major": 2,
       "version_minor": 0
      },
      "text/plain": [
       "model.safetensors:   0%|          | 0.00/538M [00:00<?, ?B/s]"
      ]
     },
     "metadata": {},
     "output_type": "display_data"
    },
    {
     "data": {
      "application/vnd.jupyter.widget-view+json": {
       "model_id": "120115fd6d3b4c49b2f34c8512779e7a",
       "version_major": 2,
       "version_minor": 0
      },
      "text/plain": [
       "training_args.bin:   0%|          | 0.00/5.56k [00:00<?, ?B/s]"
      ]
     },
     "metadata": {},
     "output_type": "display_data"
    },
    {
     "data": {
      "text/plain": [
       "CommitInfo(commit_url='https://huggingface.co/Tookies/SmolLM2-FT-Smoltalk/commit/d1ae1a6c3b27bbc639ee78caa80ebbaba19b26f4', commit_message='End of training', commit_description='', oid='d1ae1a6c3b27bbc639ee78caa80ebbaba19b26f4', pr_url=None, repo_url=RepoUrl('https://huggingface.co/Tookies/SmolLM2-FT-Smoltalk', endpoint='https://huggingface.co', repo_type='model', repo_id='Tookies/SmolLM2-FT-Smoltalk'), pr_revision=None, pr_num=None)"
      ]
     },
     "execution_count": 9,
     "metadata": {},
     "output_type": "execute_result"
    }
   ],
   "source": [
    "trainer.push_to_hub(tags=finetune_tags)"
   ]
  },
  {
   "cell_type": "markdown",
   "metadata": {},
   "source": [
    "<div style='background-color: lightblue; padding: 10px; border-radius: 5px; margin-bottom: 20px; color:black'>\n",
    "    <h2 style='margin: 0;color:blue'>Bonus Exercise: Generate with fine-tuned model</h2>\n",
    "    <p>🐕 Use the fine-tuned to model generate a response, just like with the base example..</p>\n",
    "</div>"
   ]
  },
  {
   "cell_type": "code",
   "execution_count": 10,
   "metadata": {},
   "outputs": [
    {
     "name": "stdout",
     "output_type": "stream",
     "text": [
      "After training:\n",
      "user\n",
      "Write a haiku about programming\n",
      "assistant\n",
      "Hello! How can I help you today? I'm going to write a haiku about programming. What's programming? It's a type of art where you create a sequence of steps to solve a problem. Think of it like a recipe. You follow the steps, and then you see the result. Can you think of any programming languages? Python, Java, or JavaScript are all popular ones. What's the most popular programming language right now? Python is very popular,\n"
     ]
    }
   ],
   "source": [
    "# Test the fine-tuned model on the same prompt\n",
    "\n",
    "# Let's test the base model before training\n",
    "prompt = \"Write a haiku about programming\"\n",
    "\n",
    "# Format with template\n",
    "messages = [{\"role\": \"user\", \"content\": prompt}]\n",
    "formatted_prompt = tokenizer.apply_chat_template(messages, tokenize=False)\n",
    "\n",
    "# Generate response\n",
    "inputs = tokenizer(formatted_prompt, return_tensors=\"pt\").to(device)\n",
    "\n",
    "# TODO: use the fine-tuned to model generate a response, just like with the base example.\n",
    "outputs = model.generate(**inputs, max_new_tokens=100)\n",
    "print(\"After training:\")\n",
    "print(tokenizer.decode(outputs[0], skip_special_tokens=True))"
   ]
  },
  {
   "cell_type": "code",
   "execution_count": null,
   "metadata": {},
   "outputs": [
    {
     "data": {
      "text/html": [
       "<h2>Kernel will shut down...</h2>"
      ],
      "text/plain": [
       "<IPython.core.display.HTML object>"
      ]
     },
     "metadata": {},
     "output_type": "display_data"
    },
    {
     "data": {
      "text/plain": [
       "{'status': 'ok', 'restart': True}"
      ]
     },
     "execution_count": 11,
     "metadata": {},
     "output_type": "execute_result"
    },
    {
     "ename": "",
     "evalue": "",
     "output_type": "error",
     "traceback": [
      "\u001b[1;31mThe Kernel crashed while executing code in the current cell or a previous cell. \n",
      "\u001b[1;31mPlease review the code in the cell(s) to identify a possible cause of the failure. \n",
      "\u001b[1;31mClick <a href='https://aka.ms/vscodeJupyterKernelCrash'>here</a> for more info. \n",
      "\u001b[1;31mView Jupyter <a href='command:jupyter.viewOutput'>log</a> for further details."
     ]
    }
   ],
   "source": [
    "from IPython.display import display, HTML\n",
    "display(HTML(\"<h2>Kernel will shut down...</h2>\"))\n",
    "\n",
    "import IPython\n",
    "app = IPython.Application.instance()\n",
    "app.kernel.do_shutdown(True) "
   ]
  },
  {
   "cell_type": "markdown",
   "metadata": {},
   "source": [
    "## 💐 You're done!\n",
    "\n",
    "This notebook provided a step-by-step guide to fine-tuning the `HuggingFaceTB/SmolLM2-135M` model using the `SFTTrainer`. By following these steps, you can adapt the model to perform specific tasks more effectively. If you want to carry on working on this course, here are steps you could try out:\n",
    "\n",
    "- Try this notebook on a harder difficulty\n",
    "- Review a colleagues PR\n",
    "- Improve the course material via an Issue or PR."
   ]
  }
 ],
 "metadata": {
  "kernelspec": {
   "display_name": ".venv",
   "language": "python",
   "name": "python3"
  },
  "language_info": {
   "codemirror_mode": {
    "name": "ipython",
    "version": 3
   },
   "file_extension": ".py",
   "mimetype": "text/x-python",
   "name": "python",
   "nbconvert_exporter": "python",
   "pygments_lexer": "ipython3",
   "version": "3.11.12"
  }
 },
 "nbformat": 4,
 "nbformat_minor": 2
}
